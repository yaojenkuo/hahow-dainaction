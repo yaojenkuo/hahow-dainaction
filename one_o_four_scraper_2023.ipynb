{
 "cells": [
  {
   "cell_type": "markdown",
   "id": "7720e311",
   "metadata": {},
   "source": [
    "# 如何成為資料分析師：104 Scraper 2023\n",
    "\n",
    "> https://hahow.in/cr/dajourney\n",
    "\n",
    "郭耀仁 <yaojenkuo@datainpoint.com>"
   ]
  },
  {
   "cell_type": "code",
   "execution_count": 1,
   "id": "9c229828",
   "metadata": {},
   "outputs": [],
   "source": [
    "import os\n",
    "import requests\n",
    "from bs4 import BeautifulSoup\n",
    "import pandas as pd"
   ]
  },
  {
   "cell_type": "markdown",
   "id": "096fc0e5",
   "metadata": {},
   "source": [
    "## 定義函數下載搜尋結果前五頁的網頁檔案"
   ]
  },
  {
   "cell_type": "markdown",
   "id": "5c27296f",
   "metadata": {},
   "source": [
    "```python\n",
    "def download_first_five_pages():\n",
    "    for page_number in range(1, 6):\n",
    "        html_to_save = f\"https://www.104.com.tw/jobs/search/?ro=1&kwop=7&keyword=%E8%B3%87%E6%96%99%E5%88%86%E6%9E%90%E5%B8%AB&expansionType=area%2Cspec%2Ccom%2Cjob%2Cwf%2Cwktm&order=12&asc=0&page={page_number}&mode=s&jobsource=2018indexpoc&langFlag=0&langStatus=0&recommendJob=1&hotJob=1\"\n",
    "        r = requests.get(html_to_save)\n",
    "        with open(f\"104/search_result_page_{page_number}.html\", \"w\") as file:\n",
    "            file.write(r.text)\n",
    "```"
   ]
  },
  {
   "cell_type": "markdown",
   "id": "5957ab2f",
   "metadata": {},
   "source": [
    "## 定義函數擷取前五頁搜尋結果的職缺連結"
   ]
  },
  {
   "cell_type": "markdown",
   "id": "7c9aabdf",
   "metadata": {},
   "source": [
    "```python\n",
    "def get_job_url_list() -> list:\n",
    "    job_title_css_selector = \"h2 > a\"\n",
    "    job_url_list = []\n",
    "    for page_number in range(1, 6):\n",
    "        with open(f\"104/search_result_page_{page_number}.html\") as file:\n",
    "            soup = BeautifulSoup(file, 'html.parser')\n",
    "        job_url_hrefs = [elem.get(\"href\") for elem in soup.select(job_title_css_selector)]\n",
    "        job_urls = [f\"https:{job_url_href}\" for job_url_href in job_url_hrefs if \"hotjob_chr\" not in job_url_href]\n",
    "        job_url_list += job_urls\n",
    "    return job_url_list\n",
    "```"
   ]
  },
  {
   "cell_type": "markdown",
   "id": "5710d0c9",
   "metadata": {},
   "source": [
    "## 定義函數下載職缺連結的網頁檔案"
   ]
  },
  {
   "cell_type": "markdown",
   "id": "e46ec87d",
   "metadata": {},
   "source": [
    "```python\n",
    "def download_job_descriptions(job_url_list: list):\n",
    "    for job_url in job_url_list:\n",
    "        r = requests.get(job_url)\n",
    "        soup = BeautifulSoup(r.text)\n",
    "        job_url_split = job_url.split(\"?\")[0]\n",
    "        page_name = job_url_split.split(\"/\")[-1]\n",
    "        with open(f\"104/job_descriptions/{page_name}.html\", \"w\") as file:\n",
    "            file.write(r.text)\n",
    "```"
   ]
  },
  {
   "cell_type": "markdown",
   "id": "762684ab",
   "metadata": {},
   "source": [
    "## 依序執行函數"
   ]
  },
  {
   "cell_type": "markdown",
   "id": "9f0b95a4",
   "metadata": {},
   "source": [
    "```python\n",
    "download_first_five_pages()\n",
    "job_url_list = get_job_url_list()\n",
    "download_job_descriptions(job_url_list)\n",
    "```"
   ]
  },
  {
   "cell_type": "markdown",
   "id": "ab913bc8",
   "metadata": {},
   "source": [
    "## 擷取職缺的工作敘述"
   ]
  },
  {
   "cell_type": "code",
   "execution_count": 2,
   "id": "c201a60f",
   "metadata": {},
   "outputs": [],
   "source": [
    "list_dir = os.listdir(\"104/job_descriptions/\")\n",
    "job_titles, employers, job_descriptions = [], [], []\n",
    "for html_file in list_dir:\n",
    "    with open(f\"104/job_descriptions/{html_file}\") as file:\n",
    "        soup = BeautifulSoup(file, 'html.parser')\n",
    "    job_title = soup.select(\"div.job-header__title > h1\")[0].text\n",
    "    job_title = \" \".join(job_title.split()[:-1])\n",
    "    employer = soup.select(\"div.job-header__title> div > a:nth-child(1)\")[0].text.strip()\n",
    "    job_description = [elem.text for elem in soup.select(\"#app > div > div.container.jb-container.pt-4.position-relative > div > div.col.main > div.dialog.container-fluid.bg-white.rounded.job-description.mb-4.pt-6.pb-6 > div.job-description-table.row > div.job-description.col-12 > p\")]\n",
    "    job_description = \" \".join(job_description)\n",
    "    job_titles.append(job_title)\n",
    "    employers.append(employer)\n",
    "    job_descriptions.append(job_description)\n",
    "df = pd.DataFrame()\n",
    "df[\"employer\"] = employers\n",
    "df[\"job_title\"] = job_titles\n",
    "df[\"job_description\"] = job_descriptions"
   ]
  },
  {
   "cell_type": "code",
   "execution_count": 3,
   "id": "35a292b8",
   "metadata": {},
   "outputs": [
    {
     "data": {
      "text/html": [
       "<div>\n",
       "<style scoped>\n",
       "    .dataframe tbody tr th:only-of-type {\n",
       "        vertical-align: middle;\n",
       "    }\n",
       "\n",
       "    .dataframe tbody tr th {\n",
       "        vertical-align: top;\n",
       "    }\n",
       "\n",
       "    .dataframe thead th {\n",
       "        text-align: right;\n",
       "    }\n",
       "</style>\n",
       "<table border=\"1\" class=\"dataframe\">\n",
       "  <thead>\n",
       "    <tr style=\"text-align: right;\">\n",
       "      <th></th>\n",
       "      <th>employer</th>\n",
       "      <th>job_title</th>\n",
       "      <th>job_description</th>\n",
       "    </tr>\n",
       "  </thead>\n",
       "  <tbody>\n",
       "    <tr>\n",
       "      <th>0</th>\n",
       "      <td>酷遊天股份有限公司</td>\n",
       "      <td>資料分析師 Data Analyst [RD]</td>\n",
       "      <td>請透過以下連結投遞職缺，我們會以這邊收到的履歷為主：https://kkday.bamboo...</td>\n",
       "    </tr>\n",
       "    <tr>\n",
       "      <th>1</th>\n",
       "      <td>統一資訊股份有限公司</td>\n",
       "      <td>商業策略分析師Business Strategy Analyst</td>\n",
       "      <td>商業策略分析師Business Strategy Analyst\\n利用數據洞察思維與對零售...</td>\n",
       "    </tr>\n",
       "    <tr>\n",
       "      <th>2</th>\n",
       "      <td>台灣多耐福股份有限公司</td>\n",
       "      <td>Data Analyst</td>\n",
       "      <td>Role:\\nWe are seeking a skilled and self-motiv...</td>\n",
       "    </tr>\n",
       "    <tr>\n",
       "      <th>3</th>\n",
       "      <td>圖靈數位股份有限公司</td>\n",
       "      <td>Google Analytics 數據分析師（ GA Analyst ）</td>\n",
       "      <td>工作內容：\\n・通過使用 Google Analytics 4 等分析工具，提供網站分析服務...</td>\n",
       "    </tr>\n",
       "    <tr>\n",
       "      <th>4</th>\n",
       "      <td>數聯資安股份有限公司</td>\n",
       "      <td>資安工程師 (SOC L3大數據資料分析師)</td>\n",
       "      <td>主要工作內容為運用大數據Splunk/ELK平台，協助SOC監控中心日常之維運，並進行資料分...</td>\n",
       "    </tr>\n",
       "    <tr>\n",
       "      <th>...</th>\n",
       "      <td>...</td>\n",
       "      <td>...</td>\n",
       "      <td>...</td>\n",
       "    </tr>\n",
       "    <tr>\n",
       "      <th>95</th>\n",
       "      <td>104人力銀行_一零四資訊科技股份有限公司</td>\n",
       "      <td>資深資料分析師 (視訊/線上面談)</td>\n",
       "      <td>1.此職務會收到全公司每個單位不同的需求，因此需要對數字敏感，並透過數據分析和機器學習等方法...</td>\n",
       "    </tr>\n",
       "    <tr>\n",
       "      <th>96</th>\n",
       "      <td>聯經數位股份有限公司</td>\n",
       "      <td>助理數據分析師</td>\n",
       "      <td>1. 擔任精準廣告溝通橋樑，負責監控、優化、管理專案進度。\\n2. 定期分析廣告/EDM成效...</td>\n",
       "    </tr>\n",
       "    <tr>\n",
       "      <th>97</th>\n",
       "      <td>癮房市整合行銷有限公司</td>\n",
       "      <td>廣告投手 / 數據分析師</td>\n",
       "      <td>- 超過2年廣告投放經驗，擅長Google、Facebook、Line等各式數位媒體操作\\n...</td>\n",
       "    </tr>\n",
       "    <tr>\n",
       "      <th>98</th>\n",
       "      <td>微星科技股份有限公司</td>\n",
       "      <td>資料分析師</td>\n",
       "      <td>1. 與各單位溝通了解需求目的\\n2. 資料整理與模型建構\\n3. 協助將數據資料做成分析介...</td>\n",
       "    </tr>\n",
       "    <tr>\n",
       "      <th>99</th>\n",
       "      <td>姿研國際股份有限公司</td>\n",
       "      <td>數據分析師</td>\n",
       "      <td>1.進行資料收集、標籤定義與數據清理。\\n2.進行調查數據的彙整，分析調查數據與繪製統計圖表...</td>\n",
       "    </tr>\n",
       "  </tbody>\n",
       "</table>\n",
       "<p>100 rows × 3 columns</p>\n",
       "</div>"
      ],
      "text/plain": [
       "                 employer                             job_title  \\\n",
       "0               酷遊天股份有限公司               資料分析師 Data Analyst [RD]   \n",
       "1              統一資訊股份有限公司      商業策略分析師Business Strategy Analyst   \n",
       "2             台灣多耐福股份有限公司                          Data Analyst   \n",
       "3              圖靈數位股份有限公司  Google Analytics 數據分析師（ GA Analyst ）   \n",
       "4              數聯資安股份有限公司                資安工程師 (SOC L3大數據資料分析師)   \n",
       "..                    ...                                   ...   \n",
       "95  104人力銀行_一零四資訊科技股份有限公司                     資深資料分析師 (視訊/線上面談)   \n",
       "96             聯經數位股份有限公司                               助理數據分析師   \n",
       "97            癮房市整合行銷有限公司                          廣告投手 / 數據分析師   \n",
       "98             微星科技股份有限公司                                 資料分析師   \n",
       "99             姿研國際股份有限公司                                 數據分析師   \n",
       "\n",
       "                                      job_description  \n",
       "0   請透過以下連結投遞職缺，我們會以這邊收到的履歷為主：https://kkday.bamboo...  \n",
       "1   商業策略分析師Business Strategy Analyst\\n利用數據洞察思維與對零售...  \n",
       "2   Role:\\nWe are seeking a skilled and self-motiv...  \n",
       "3   工作內容：\\n・通過使用 Google Analytics 4 等分析工具，提供網站分析服務...  \n",
       "4   主要工作內容為運用大數據Splunk/ELK平台，協助SOC監控中心日常之維運，並進行資料分...  \n",
       "..                                                ...  \n",
       "95  1.此職務會收到全公司每個單位不同的需求，因此需要對數字敏感，並透過數據分析和機器學習等方法...  \n",
       "96  1. 擔任精準廣告溝通橋樑，負責監控、優化、管理專案進度。\\n2. 定期分析廣告/EDM成效...  \n",
       "97  - 超過2年廣告投放經驗，擅長Google、Facebook、Line等各式數位媒體操作\\n...  \n",
       "98  1. 與各單位溝通了解需求目的\\n2. 資料整理與模型建構\\n3. 協助將數據資料做成分析介...  \n",
       "99  1.進行資料收集、標籤定義與數據清理。\\n2.進行調查數據的彙整，分析調查數據與繪製統計圖表...  \n",
       "\n",
       "[100 rows x 3 columns]"
      ]
     },
     "execution_count": 3,
     "metadata": {},
     "output_type": "execute_result"
    }
   ],
   "source": [
    "df"
   ]
  }
 ],
 "metadata": {
  "kernelspec": {
   "display_name": "Python 3 (ipykernel)",
   "language": "python",
   "name": "python3"
  },
  "language_info": {
   "codemirror_mode": {
    "name": "ipython",
    "version": 3
   },
   "file_extension": ".py",
   "mimetype": "text/x-python",
   "name": "python",
   "nbconvert_exporter": "python",
   "pygments_lexer": "ipython3",
   "version": "3.11.4"
  }
 },
 "nbformat": 4,
 "nbformat_minor": 5
}
