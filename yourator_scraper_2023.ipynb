{
 "cells": [
  {
   "cell_type": "markdown",
   "id": "850576c1",
   "metadata": {},
   "source": [
    "# 如何成為資料分析師：Yourator Scraper 2023\n",
    "\n",
    "> https://hahow.in/cr/dajourney\n",
    "\n",
    "郭耀仁 <yaojenkuo@datainpoint.com>"
   ]
  },
  {
   "cell_type": "code",
   "execution_count": 1,
   "id": "822b373b",
   "metadata": {},
   "outputs": [],
   "source": [
    "import os\n",
    "import json\n",
    "import pandas as pd\n",
    "import requests\n",
    "from bs4 import BeautifulSoup"
   ]
  },
  {
   "cell_type": "markdown",
   "id": "43788142",
   "metadata": {},
   "source": [
    "## 定義函數擷取搜尋結果的職缺連結"
   ]
  },
  {
   "cell_type": "markdown",
   "id": "53d1c633",
   "metadata": {},
   "source": [
    "```python\n",
    "def get_job_urls() -> list:\n",
    "    with open(\"yourator/jobs.json\") as file:\n",
    "        jobs_json = json.load(file)\n",
    "    job_urls = [item[\"thirdPartyUrl\"] if item[\"thirdPartyUrl\"] is not None else \"https://www.yourator.co\" + item[\"path\"] for item in jobs_json[\"payload\"][\"jobs\"]]\n",
    "    return job_urls\n",
    "```"
   ]
  },
  {
   "cell_type": "markdown",
   "id": "5aab8f7b",
   "metadata": {},
   "source": [
    "## 定義函數下載職缺連結的網頁檔案"
   ]
  },
  {
   "cell_type": "markdown",
   "id": "5a7401f3",
   "metadata": {},
   "source": [
    "```python\n",
    "def download_job_descriptions(job_urls: list):\n",
    "    for job_url in job_urls:\n",
    "        r = requests.get(job_url)\n",
    "        soup = BeautifulSoup(r.text)\n",
    "        page_name = job_url.replace(\"/\", \"_\")\n",
    "        with open(f\"yourator/job_descriptions/{page_name}.html\", \"w\") as file:\n",
    "            file.write(r.text)\n",
    "```"
   ]
  },
  {
   "cell_type": "markdown",
   "id": "da39cff9",
   "metadata": {},
   "source": [
    "## 依序執行函數"
   ]
  },
  {
   "cell_type": "markdown",
   "id": "e64affb6",
   "metadata": {},
   "source": [
    "```python\n",
    "job_urls = get_job_urls()\n",
    "download_job_descriptions(job_urls)\n",
    "```"
   ]
  },
  {
   "cell_type": "markdown",
   "id": "931ab0af",
   "metadata": {},
   "source": [
    "## 擷取職缺的工作敘述"
   ]
  },
  {
   "cell_type": "code",
   "execution_count": 2,
   "id": "f964a485",
   "metadata": {},
   "outputs": [],
   "source": [
    "list_dir = os.listdir(\"yourator/job_descriptions/\")\n",
    "job_titles, employers, job_descriptions = [], [], []\n",
    "for html_file in list_dir:\n",
    "    with open(f\"yourator/job_descriptions/{html_file}\") as file:\n",
    "        soup = BeautifulSoup(file, 'html.parser')\n",
    "    if \"teamdoor\" in html_file:\n",
    "        job_title = soup.select(\"h2.title\")[0].text.strip()\n",
    "        employer = html_file.split(\"__\")[1]\n",
    "        employer = employer.split(\".\")[0]\n",
    "        job_description = [elem.text for elem in soup.select(\"div.content-area.content > div > div > div > p\")]\n",
    "        job_description = \" \".join(job_description)\n",
    "        job_titles.append(job_title)\n",
    "        employers.append(employer)\n",
    "        job_descriptions.append(job_description)\n",
    "    else:\n",
    "        job_title = soup.select(\"h1.basic-info__title__text\")[0].text\n",
    "        employer = soup.select(\"h4 > a\")[0].text\n",
    "        job_description = [elem.text for elem in soup.select(\"div > section > p\")]\n",
    "        job_description = \" \".join(job_description)\n",
    "        job_titles.append(job_title)\n",
    "        employers.append(employer)\n",
    "        job_descriptions.append(job_description)\n",
    "df = pd.DataFrame()\n",
    "df[\"employer\"] = employers\n",
    "df[\"job_title\"] = job_titles\n",
    "df[\"job_description\"] = job_descriptions"
   ]
  },
  {
   "cell_type": "code",
   "execution_count": 3,
   "id": "399ecd7e",
   "metadata": {},
   "outputs": [
    {
     "data": {
      "text/html": [
       "<div>\n",
       "<style scoped>\n",
       "    .dataframe tbody tr th:only-of-type {\n",
       "        vertical-align: middle;\n",
       "    }\n",
       "\n",
       "    .dataframe tbody tr th {\n",
       "        vertical-align: top;\n",
       "    }\n",
       "\n",
       "    .dataframe thead th {\n",
       "        text-align: right;\n",
       "    }\n",
       "</style>\n",
       "<table border=\"1\" class=\"dataframe\">\n",
       "  <thead>\n",
       "    <tr style=\"text-align: right;\">\n",
       "      <th></th>\n",
       "      <th>employer</th>\n",
       "      <th>job_title</th>\n",
       "      <th>job_description</th>\n",
       "    </tr>\n",
       "  </thead>\n",
       "  <tbody>\n",
       "    <tr>\n",
       "      <th>0</th>\n",
       "      <td>viewsonic</td>\n",
       "      <td>資深數據分析師, Senior Data Analyst, myViewBoard</td>\n",
       "      <td>1. Proficiency in Python (must), SQL or other ...</td>\n",
       "    </tr>\n",
       "    <tr>\n",
       "      <th>1</th>\n",
       "      <td>國泰世華商業銀行</td>\n",
       "      <td>【數位金融】數位分析 Data Analyst(數數發中心, DDT)</td>\n",
       "      <td>【職務說明 What will you do】 1. 撰寫 SQL 分析資料，使用Table...</td>\n",
       "    </tr>\n",
       "    <tr>\n",
       "      <th>2</th>\n",
       "      <td>KdanMobile</td>\n",
       "      <td>(台北) 資料分析師 Data Analyst</td>\n",
       "      <td>【你需要做什麼？】• 行銷名單彙整管理• 產品數據收集參數設定與分析• 用戶行為與產品改善分...</td>\n",
       "    </tr>\n",
       "    <tr>\n",
       "      <th>3</th>\n",
       "      <td>統一超商 7-ELEVEN</td>\n",
       "      <td>統一超商 數據分析師 Data Analyst (OPEN POINT)</td>\n",
       "      <td>福儲信託：員工提撥金額公司再加碼，協助你累積另一筆退休金\\n年節賀禮：1. 三節禮金 / 禮...</td>\n",
       "    </tr>\n",
       "    <tr>\n",
       "      <th>4</th>\n",
       "      <td>Gogolook</td>\n",
       "      <td>資深數據分析師 Senior Data Analyst</td>\n",
       "      <td>Job description Gogolook has been deeply invol...</td>\n",
       "    </tr>\n",
       "    <tr>\n",
       "      <th>5</th>\n",
       "      <td>國泰世華商業銀行</td>\n",
       "      <td>【數位金融】數位分析 Data Analyst(數數發中心, DDT)</td>\n",
       "      <td>【職務說明 What will you do】\\n1. 透過數據驅動建立重點業務指標，運用工...</td>\n",
       "    </tr>\n",
       "    <tr>\n",
       "      <th>6</th>\n",
       "      <td>JobMenta</td>\n",
       "      <td>全球千萬用戶AI應用軟體科技公司 Product Director</td>\n",
       "      <td></td>\n",
       "    </tr>\n",
       "    <tr>\n",
       "      <th>7</th>\n",
       "      <td>天下雜誌股份有限公司</td>\n",
       "      <td>《天下雜誌群》資深數據分析師 Sr.Data Analyst</td>\n",
       "      <td>天下雜誌群共有《天下》、《康健》、《天下學習》、《親子天下》等品牌，分屬在財經管理、健康生活...</td>\n",
       "    </tr>\n",
       "    <tr>\n",
       "      <th>8</th>\n",
       "      <td>KdanMobile</td>\n",
       "      <td>(台北) ADNEX資料分析師 Data Analyst</td>\n",
       "      <td>【關於ADNEX】 ADNEX是隸屬於凱鈿的數位廣告行銷品牌，我們有投放經驗很豐富的優化師、...</td>\n",
       "    </tr>\n",
       "    <tr>\n",
       "      <th>9</th>\n",
       "      <td>新加坡商鈦坦科技</td>\n",
       "      <td>【採線上面談】Business Analyst 商業分析師(台北)</td>\n",
       "      <td>【Job Responsibilities】\\n• Conduct data analysi...</td>\n",
       "    </tr>\n",
       "    <tr>\n",
       "      <th>10</th>\n",
       "      <td>viewsonic</td>\n",
       "      <td>行銷數據研究員, Marketing Data Analyst, Global Marketing</td>\n",
       "      <td>The Marketing Data Analyst is responsible for ...</td>\n",
       "    </tr>\n",
       "    <tr>\n",
       "      <th>11</th>\n",
       "      <td>KdanMobile</td>\n",
       "      <td>(台北) ADNEX數據分析顧問 Data Analyst Consultant</td>\n",
       "      <td>【關於ADNEX】 ADNEX是隸屬於凱鈿的數位廣告行銷品牌，我們有投放經驗很豐富的優化師、...</td>\n",
       "    </tr>\n",
       "    <tr>\n",
       "      <th>12</th>\n",
       "      <td>天下雜誌股份有限公司</td>\n",
       "      <td>《天下雜誌群》數據分析師 Jr.Data Analyst</td>\n",
       "      <td>天下雜誌群共有《天下》、《康健》、《天下學習》、《親子天下》等品牌，分屬在財經管理、健康生活...</td>\n",
       "    </tr>\n",
       "    <tr>\n",
       "      <th>13</th>\n",
       "      <td>pchome24h</td>\n",
       "      <td>技術部-Data Analyst</td>\n",
       "      <td>【工作內容】1、執行數據類型專案項目，包含需求訪談、規格定義、跨團隊溝通、外部合作案執行。2...</td>\n",
       "    </tr>\n",
       "  </tbody>\n",
       "</table>\n",
       "</div>"
      ],
      "text/plain": [
       "         employer                                          job_title  \\\n",
       "0       viewsonic          資深數據分析師, Senior Data Analyst, myViewBoard   \n",
       "1        國泰世華商業銀行                【數位金融】數位分析 Data Analyst(數數發中心, DDT)   \n",
       "2      KdanMobile                            (台北) 資料分析師 Data Analyst   \n",
       "3   統一超商 7-ELEVEN               統一超商 數據分析師 Data Analyst (OPEN POINT)   \n",
       "4        Gogolook                        資深數據分析師 Senior Data Analyst   \n",
       "5        國泰世華商業銀行                【數位金融】數位分析 Data Analyst(數數發中心, DDT)   \n",
       "6        JobMenta                  全球千萬用戶AI應用軟體科技公司 Product Director   \n",
       "7     天下雜誌股份有限公司                      《天下雜誌群》資深數據分析師 Sr.Data Analyst   \n",
       "8      KdanMobile                       (台北) ADNEX資料分析師 Data Analyst   \n",
       "9        新加坡商鈦坦科技                  【採線上面談】Business Analyst 商業分析師(台北)   \n",
       "10      viewsonic  行銷數據研究員, Marketing Data Analyst, Global Marketing   \n",
       "11     KdanMobile           (台北) ADNEX數據分析顧問 Data Analyst Consultant   \n",
       "12    天下雜誌股份有限公司                        《天下雜誌群》數據分析師 Jr.Data Analyst   \n",
       "13      pchome24h                                   技術部-Data Analyst   \n",
       "\n",
       "                                      job_description  \n",
       "0   1. Proficiency in Python (must), SQL or other ...  \n",
       "1   【職務說明 What will you do】 1. 撰寫 SQL 分析資料，使用Table...  \n",
       "2   【你需要做什麼？】• 行銷名單彙整管理• 產品數據收集參數設定與分析• 用戶行為與產品改善分...  \n",
       "3   福儲信託：員工提撥金額公司再加碼，協助你累積另一筆退休金\\n年節賀禮：1. 三節禮金 / 禮...  \n",
       "4   Job description Gogolook has been deeply invol...  \n",
       "5   【職務說明 What will you do】\\n1. 透過數據驅動建立重點業務指標，運用工...  \n",
       "6                                                      \n",
       "7   天下雜誌群共有《天下》、《康健》、《天下學習》、《親子天下》等品牌，分屬在財經管理、健康生活...  \n",
       "8   【關於ADNEX】 ADNEX是隸屬於凱鈿的數位廣告行銷品牌，我們有投放經驗很豐富的優化師、...  \n",
       "9   【Job Responsibilities】\\n• Conduct data analysi...  \n",
       "10  The Marketing Data Analyst is responsible for ...  \n",
       "11  【關於ADNEX】 ADNEX是隸屬於凱鈿的數位廣告行銷品牌，我們有投放經驗很豐富的優化師、...  \n",
       "12  天下雜誌群共有《天下》、《康健》、《天下學習》、《親子天下》等品牌，分屬在財經管理、健康生活...  \n",
       "13  【工作內容】1、執行數據類型專案項目，包含需求訪談、規格定義、跨團隊溝通、外部合作案執行。2...  "
      ]
     },
     "execution_count": 3,
     "metadata": {},
     "output_type": "execute_result"
    }
   ],
   "source": [
    "df"
   ]
  }
 ],
 "metadata": {
  "kernelspec": {
   "display_name": "Python 3 (ipykernel)",
   "language": "python",
   "name": "python3"
  },
  "language_info": {
   "codemirror_mode": {
    "name": "ipython",
    "version": 3
   },
   "file_extension": ".py",
   "mimetype": "text/x-python",
   "name": "python",
   "nbconvert_exporter": "python",
   "pygments_lexer": "ipython3",
   "version": "3.11.4"
  }
 },
 "nbformat": 4,
 "nbformat_minor": 5
}
