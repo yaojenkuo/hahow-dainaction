{
 "cells": [
  {
   "cell_type": "markdown",
   "metadata": {},
   "source": [
    "# 3-6 資料分析師的技能供給\n",
    "\n",
    "> 補充教材\n",
    "\n",
    "郭耀仁"
   ]
  },
  {
   "cell_type": "markdown",
   "metadata": {},
   "source": [
    "## 關於布林篩選\n",
    "\n",
    "常見資料處理任務中，我們常會要進行類似 SQL 基礎查詢的操作：又稱為資料控制文法（The Grammar of Data Manipulation），包含選擇、篩選、衍生、排序、摘要與分組六種可以和 SQL 基礎查詢完美呼應的技巧，在 Python 中可以使用套件 pandas 來實踐。要從資料框中挑出職稱為 Data Analyst 的受訪者資料，我們可以應用**篩選**這個技法，並且使用布林（`boolean`）運算符：`==`，亦即**等於**。"
   ]
  },
  {
   "cell_type": "code",
   "execution_count": 1,
   "metadata": {},
   "outputs": [],
   "source": [
    "import pandas as pd"
   ]
  },
  {
   "cell_type": "code",
   "execution_count": 2,
   "metadata": {},
   "outputs": [],
   "source": [
    "survey_2017 = pd.read_csv(\"https://kaggle-ml-ds-survey.s3-ap-northeast-1.amazonaws.com/kaggle-survey-2017/multipleChoiceResponses.csv\", encoding='ISO-8859-1', low_memory=False)\n",
    "survey_2018 = pd.read_csv(\"https://kaggle-ml-ds-survey.s3-ap-northeast-1.amazonaws.com/kaggle-survey-2018/multipleChoiceResponses.csv\", encoding='ISO-8859-1', skiprows=[1], low_memory=False)\n",
    "survey_2019 = pd.read_csv(\"https://kaggle-ml-ds-survey.s3-ap-northeast-1.amazonaws.com/kaggle-survey-2019/multiple_choice_responses.csv\", encoding='ISO-8859-1', skiprows=[1], low_memory=False)"
   ]
  },
  {
   "cell_type": "code",
   "execution_count": 3,
   "metadata": {},
   "outputs": [
    {
     "data": {
      "text/plain": [
       "0        False\n",
       "1        False\n",
       "2        False\n",
       "3        False\n",
       "4        False\n",
       "         ...  \n",
       "16711    False\n",
       "16712    False\n",
       "16713    False\n",
       "16714    False\n",
       "16715    False\n",
       "Name: CurrentJobTitleSelect, Length: 16716, dtype: bool"
      ]
     },
     "execution_count": 3,
     "metadata": {},
     "output_type": "execute_result"
    }
   ],
   "source": [
    "# 使用布林（boolean）運算符：==\n",
    "survey_2017['CurrentJobTitleSelect'] == 'Data Analyst'"
   ]
  },
  {
   "cell_type": "code",
   "execution_count": 4,
   "metadata": {},
   "outputs": [
    {
     "data": {
      "text/plain": [
       "0        False\n",
       "1        False\n",
       "2        False\n",
       "3        False\n",
       "4         True\n",
       "         ...  \n",
       "23854    False\n",
       "23855    False\n",
       "23856    False\n",
       "23857    False\n",
       "23858    False\n",
       "Name: Q6, Length: 23859, dtype: bool"
      ]
     },
     "execution_count": 4,
     "metadata": {},
     "output_type": "execute_result"
    }
   ],
   "source": [
    "# 使用布林（boolean）運算符：==\n",
    "survey_2018['Q6'] == 'Data Analyst'"
   ]
  },
  {
   "cell_type": "code",
   "execution_count": 5,
   "metadata": {},
   "outputs": [
    {
     "data": {
      "text/plain": [
       "0        False\n",
       "1        False\n",
       "2        False\n",
       "3        False\n",
       "4        False\n",
       "         ...  \n",
       "19712    False\n",
       "19713    False\n",
       "19714    False\n",
       "19715    False\n",
       "19716    False\n",
       "Name: Q5, Length: 19717, dtype: bool"
      ]
     },
     "execution_count": 5,
     "metadata": {},
     "output_type": "execute_result"
    }
   ],
   "source": [
    "# 使用布林（boolean）運算符：==\n",
    "survey_2019['Q5'] == 'Data Analyst'"
   ]
  },
  {
   "cell_type": "code",
   "execution_count": 6,
   "metadata": {},
   "outputs": [],
   "source": [
    "# 篩選：保留布林條件判斷為 True 的觀測值\n",
    "da_2017 = survey_2017[survey_2017['CurrentJobTitleSelect'] == 'Data Analyst']\n",
    "da_2018 = survey_2018[survey_2018['Q6'] == 'Data Analyst']\n",
    "da_2019 = survey_2019[survey_2019['Q5'] == 'Data Analyst']"
   ]
  },
  {
   "cell_type": "markdown",
   "metadata": {},
   "source": [
    "## 關於自訂函式 `get_value_ratios`\n",
    "\n",
    "我們希望可以將 `da_2017`、`da_2018` 與 `da_2019` 這三個資料框中單選題所記錄的比例回傳，但是不希望每更動一次資料框、每更動一個單選題，就要重新撰寫一次大抵相同的程式碼，在這裡就可以運用**自訂函式**的技巧，宣告一個名稱為 `get_value_ratios` 函式，設計兩個參數：`df` 與 `col_name`，分別代表資料框名稱與單選題的題目名（或題號）。"
   ]
  },
  {
   "cell_type": "code",
   "execution_count": 7,
   "metadata": {},
   "outputs": [],
   "source": [
    "def get_value_ratios(df, col_name):\n",
    "    return df[col_name].value_counts() / df[col_name].value_counts().sum()"
   ]
  },
  {
   "cell_type": "code",
   "execution_count": 8,
   "metadata": {},
   "outputs": [
    {
     "data": {
      "text/plain": [
       "Analyze and understand data to influence product or business decisions                                                631\n",
       "Build and/or run the data infrastructure that your business uses for storing, analyzing, and operationalizing data     98\n",
       "Build and/or run a machine learning service that operationally improves your product or workflows                      73\n",
       "Build prototypes to explore applying machine learning to new areas                                                     47\n",
       "Other                                                                                                                  27\n",
       "Research that advances the state of the art of machine learning                                                        11\n",
       "Name: JobFunctionSelect, dtype: int64"
      ]
     },
     "execution_count": 8,
     "metadata": {},
     "output_type": "execute_result"
    }
   ],
   "source": [
    "# 以 da_2017['JobFunctionSelect'] 為例\n",
    "# .value_counts() 方法能回傳所有受訪者在某個單選題的答題狀況\n",
    "da_2017['JobFunctionSelect'].value_counts()"
   ]
  },
  {
   "cell_type": "code",
   "execution_count": 9,
   "metadata": {},
   "outputs": [
    {
     "data": {
      "text/plain": [
       "887"
      ]
     },
     "execution_count": 9,
     "metadata": {},
     "output_type": "execute_result"
    }
   ],
   "source": [
    "# 在 .value_counts() 方法後接著呼叫 .sum() 方法則是將所有的答題人數加總起來\n",
    "da_2017['JobFunctionSelect'].value_counts().sum()"
   ]
  },
  {
   "cell_type": "code",
   "execution_count": 10,
   "metadata": {},
   "outputs": [
    {
     "data": {
      "text/plain": [
       "Analyze and understand data to influence product or business decisions                                                0.711387\n",
       "Build and/or run the data infrastructure that your business uses for storing, analyzing, and operationalizing data    0.110485\n",
       "Build and/or run a machine learning service that operationally improves your product or workflows                     0.082300\n",
       "Build prototypes to explore applying machine learning to new areas                                                    0.052988\n",
       "Other                                                                                                                 0.030440\n",
       "Research that advances the state of the art of machine learning                                                       0.012401\n",
       "Name: JobFunctionSelect, dtype: float64"
      ]
     },
     "execution_count": 10,
     "metadata": {},
     "output_type": "execute_result"
    }
   ],
   "source": [
    "# 兩者相除就可以得到單選題的答覆比例\n",
    "da_2017['JobFunctionSelect'].value_counts() / da_2017['JobFunctionSelect'].value_counts().sum()"
   ]
  },
  {
   "cell_type": "code",
   "execution_count": 11,
   "metadata": {},
   "outputs": [
    {
     "data": {
      "text/plain": [
       "Analyze and understand data to influence product or business decisions                                                0.711387\n",
       "Build and/or run the data infrastructure that your business uses for storing, analyzing, and operationalizing data    0.110485\n",
       "Build and/or run a machine learning service that operationally improves your product or workflows                     0.082300\n",
       "Build prototypes to explore applying machine learning to new areas                                                    0.052988\n",
       "Other                                                                                                                 0.030440\n",
       "Research that advances the state of the art of machine learning                                                       0.012401\n",
       "Name: JobFunctionSelect, dtype: float64"
      ]
     },
     "execution_count": 11,
     "metadata": {},
     "output_type": "execute_result"
    }
   ],
   "source": [
    "# 不想重複做前述的事情，直接呼叫 get_value_ratios 函式\n",
    "get_value_ratios(da_2017, 'JobFunctionSelect')"
   ]
  },
  {
   "cell_type": "markdown",
   "metadata": {},
   "source": [
    "## 關於自訂函式 `get_checkbox_ratios`\n",
    "\n",
    "我們希望可以將 `da_2017`、`da_2018` 與 `da_2019` 這三個資料框中複選題所記錄的比例回傳，但是不希望每更動一次資料框、每更動一個單選題，就要重新撰寫一次大抵相同的程式碼，在這裡就可以運用**自訂函式**的技巧，宣告一個名稱為 `get_checkbox_ratios` 函式，設計兩個參數：`df` 與 `col_pattern`，分別代表資料框名稱與複選題的題目特徵（或題號特徵）。"
   ]
  },
  {
   "cell_type": "code",
   "execution_count": 12,
   "metadata": {},
   "outputs": [],
   "source": [
    "def get_checkbox_ratios(df, col_pattern):\n",
    "    # 初始化兩個空的 list 用來存放複選題的選項與勾選數\n",
    "    channel_names = [] # 複選題的選項\n",
    "    channel_checks = [] # 複選題的勾選數\n",
    "    for col_name in df.columns:\n",
    "        # 將符合複選題的題目特徵（或題號特徵）的變數欄位納入\n",
    "        # 排除題目特徵中有 OTHER_TEXT 這種開放式回答的變數欄位\n",
    "        if (col_pattern in col_name) and ('OTHER_TEXT' not in col_name):\n",
    "            channel_name = df[col_name].value_counts().index # 取出複選題選項\n",
    "            channel_check = df[col_name].value_counts().values # 取出複選題的勾選數\n",
    "            # 排除空字串的複選題選項\n",
    "            if channel_name.size != 0:\n",
    "                channel_names.append(channel_name[0]) # 存入複選題選項\n",
    "                channel_checks.append(channel_check[0]) # 存入複選題勾選數\n",
    "    channel_counts = pd.Series(channel_checks, index=channel_names) # 製作一個好排序的 pandas Series\n",
    "    channel_ratios = channel_counts / channel_counts.sum() # 加總\n",
    "    channel_ratios_sorted = channel_ratios.sort_values(ascending=False) # 遞減（由大到小）排序複選題的勾選數\n",
    "    return channel_ratios_sorted"
   ]
  },
  {
   "cell_type": "code",
   "execution_count": 13,
   "metadata": {},
   "outputs": [
    {
     "data": {
      "text/plain": [
       "4                                                      NaN\n",
       "14       Analyze and understand data to influence produ...\n",
       "27       Analyze and understand data to influence produ...\n",
       "33       Analyze and understand data to influence produ...\n",
       "46                                                     NaN\n",
       "                               ...                        \n",
       "23785                                                  NaN\n",
       "23786    Analyze and understand data to influence produ...\n",
       "23798                                                  NaN\n",
       "23838                                                  NaN\n",
       "23849    Analyze and understand data to influence produ...\n",
       "Name: Q11_Part_1, Length: 1922, dtype: object"
      ]
     },
     "execution_count": 13,
     "metadata": {},
     "output_type": "execute_result"
    }
   ],
   "source": [
    "# 以 da_2018['Q11_XXX'] 為例\n",
    "da_2018['Q11_Part_1']"
   ]
  },
  {
   "cell_type": "code",
   "execution_count": 14,
   "metadata": {},
   "outputs": [
    {
     "data": {
      "text/plain": [
       "4                                                      NaN\n",
       "14                                                     NaN\n",
       "27                                                     NaN\n",
       "33       Build and/or run a machine learning service th...\n",
       "46       Build and/or run a machine learning service th...\n",
       "                               ...                        \n",
       "23785                                                  NaN\n",
       "23786                                                  NaN\n",
       "23798                                                  NaN\n",
       "23838                                                  NaN\n",
       "23849                                                  NaN\n",
       "Name: Q11_Part_2, Length: 1922, dtype: object"
      ]
     },
     "execution_count": 14,
     "metadata": {},
     "output_type": "execute_result"
    }
   ],
   "source": [
    "da_2018['Q11_Part_2']"
   ]
  },
  {
   "cell_type": "code",
   "execution_count": 15,
   "metadata": {},
   "outputs": [
    {
     "data": {
      "text/plain": [
       "4       -1\n",
       "14      -1\n",
       "27      -1\n",
       "33      -1\n",
       "46      -1\n",
       "        ..\n",
       "23785   -1\n",
       "23786   -1\n",
       "23798   -1\n",
       "23838   -1\n",
       "23849   -1\n",
       "Name: Q11_OTHER_TEXT, Length: 1922, dtype: int64"
      ]
     },
     "execution_count": 15,
     "metadata": {},
     "output_type": "execute_result"
    }
   ],
   "source": [
    "# da_2018['Q11_Part_3']\n",
    "# ...\n",
    "da_2018['Q11_OTHER_TEXT']"
   ]
  },
  {
   "cell_type": "code",
   "execution_count": 16,
   "metadata": {},
   "outputs": [
    {
     "name": "stdout",
     "output_type": "stream",
     "text": [
      "['Analyze and understand data to influence product or business decisions', 'Build and/or run a machine learning service that operationally improves my product or workflows', 'Build and/or run the data infrastructure that my business uses for storing, analyzing, and operationalizing data', 'Build prototypes to explore applying machine learning to new areas', 'Do research that advances the state of the art of machine learning', 'None of these activities are an important part of my role at work', 'Other']\n",
      "[1287, 360, 610, 426, 253, 97, 69]\n"
     ]
    }
   ],
   "source": [
    "channel_names = [] # 複選題的選項\n",
    "channel_checks = [] # 複選題的勾選數\n",
    "for col_name in da_2018.columns:\n",
    "        # 將符合複選題的題目特徵（或題號特徵）的變數欄位納入\n",
    "        # 排除題目特徵中有 OTHER_TEXT 這種開放式回答的變數欄位\n",
    "        if ('Q11' in col_name) and ('OTHER_TEXT' not in col_name):\n",
    "            channel_name = da_2018[col_name].value_counts().index # 取出複選題選項\n",
    "            channel_check = da_2018[col_name].value_counts().values # 取出複選題的勾選數\n",
    "            # 排除空字串的複選題選項\n",
    "            if channel_name.size != 0:\n",
    "                channel_names.append(channel_name[0]) # 存入複選題選項\n",
    "                channel_checks.append(channel_check[0]) # 存入複選題勾選數\n",
    "print(channel_names)\n",
    "print(channel_checks)"
   ]
  },
  {
   "cell_type": "code",
   "execution_count": 17,
   "metadata": {},
   "outputs": [
    {
     "data": {
      "text/plain": [
       "Analyze and understand data to influence product or business decisions                                              1287\n",
       "Build and/or run a machine learning service that operationally improves my product or workflows                      360\n",
       "Build and/or run the data infrastructure that my business uses for storing, analyzing, and operationalizing data     610\n",
       "Build prototypes to explore applying machine learning to new areas                                                   426\n",
       "Do research that advances the state of the art of machine learning                                                   253\n",
       "None of these activities are an important part of my role at work                                                     97\n",
       "Other                                                                                                                 69\n",
       "dtype: int64"
      ]
     },
     "execution_count": 17,
     "metadata": {},
     "output_type": "execute_result"
    }
   ],
   "source": [
    "channel_counts = pd.Series(channel_checks, index=channel_names) # 製作一個好排序的 pandas Series\n",
    "channel_counts"
   ]
  },
  {
   "cell_type": "code",
   "execution_count": 18,
   "metadata": {},
   "outputs": [
    {
     "data": {
      "text/plain": [
       "Analyze and understand data to influence product or business decisions                                              0.414894\n",
       "Build and/or run a machine learning service that operationally improves my product or workflows                     0.116054\n",
       "Build and/or run the data infrastructure that my business uses for storing, analyzing, and operationalizing data    0.196647\n",
       "Build prototypes to explore applying machine learning to new areas                                                  0.137331\n",
       "Do research that advances the state of the art of machine learning                                                  0.081560\n",
       "None of these activities are an important part of my role at work                                                   0.031270\n",
       "Other                                                                                                               0.022244\n",
       "dtype: float64"
      ]
     },
     "execution_count": 18,
     "metadata": {},
     "output_type": "execute_result"
    }
   ],
   "source": [
    "channel_ratios = channel_counts / channel_counts.sum() # 加總\n",
    "channel_ratios"
   ]
  },
  {
   "cell_type": "code",
   "execution_count": 19,
   "metadata": {},
   "outputs": [
    {
     "data": {
      "text/plain": [
       "Analyze and understand data to influence product or business decisions                                              0.414894\n",
       "Build and/or run the data infrastructure that my business uses for storing, analyzing, and operationalizing data    0.196647\n",
       "Build prototypes to explore applying machine learning to new areas                                                  0.137331\n",
       "Build and/or run a machine learning service that operationally improves my product or workflows                     0.116054\n",
       "Do research that advances the state of the art of machine learning                                                  0.081560\n",
       "None of these activities are an important part of my role at work                                                   0.031270\n",
       "Other                                                                                                               0.022244\n",
       "dtype: float64"
      ]
     },
     "execution_count": 19,
     "metadata": {},
     "output_type": "execute_result"
    }
   ],
   "source": [
    "channel_ratios_sorted = channel_ratios.sort_values(ascending=False) # 遞減（由大到小）排序複選題的勾選數\n",
    "channel_ratios_sorted"
   ]
  },
  {
   "cell_type": "code",
   "execution_count": 20,
   "metadata": {},
   "outputs": [
    {
     "data": {
      "text/plain": [
       "Analyze and understand data to influence product or business decisions                                              0.414894\n",
       "Build and/or run the data infrastructure that my business uses for storing, analyzing, and operationalizing data    0.196647\n",
       "Build prototypes to explore applying machine learning to new areas                                                  0.137331\n",
       "Build and/or run a machine learning service that operationally improves my product or workflows                     0.116054\n",
       "Do research that advances the state of the art of machine learning                                                  0.081560\n",
       "None of these activities are an important part of my role at work                                                   0.031270\n",
       "Other                                                                                                               0.022244\n",
       "dtype: float64"
      ]
     },
     "execution_count": 20,
     "metadata": {},
     "output_type": "execute_result"
    }
   ],
   "source": [
    "# 不想重複做前述的事情，直接呼叫 get_checkbox_ratios 函式\n",
    "get_checkbox_ratios(da_2018, 'Q11')"
   ]
  },
  {
   "cell_type": "markdown",
   "metadata": {},
   "source": [
    "此部分的自訂函數較為複雜，對沒有涉獵 Python 程式設計以及 pandas 套件的同學而言，可能還是不太能理解若沒辦法完全理解，沒有關係的喔！只需知道此函數是為了處理複選題中，每個選項被分成不同變數欄位回答，透過 `get_checkbox_ratios`，可將不同選項彙整在一起並計算出每個選項的比例。"
   ]
  }
 ],
 "metadata": {
  "kernelspec": {
   "display_name": "Python 3",
   "language": "python",
   "name": "python3"
  },
  "language_info": {
   "codemirror_mode": {
    "name": "ipython",
    "version": 3
   },
   "file_extension": ".py",
   "mimetype": "text/x-python",
   "name": "python",
   "nbconvert_exporter": "python",
   "pygments_lexer": "ipython3",
   "version": "3.7.5"
  }
 },
 "nbformat": 4,
 "nbformat_minor": 2
}
